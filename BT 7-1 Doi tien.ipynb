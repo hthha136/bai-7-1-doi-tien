{
 "cells": [
  {
   "cell_type": "code",
   "execution_count": 1,
   "id": "ca37a2bb",
   "metadata": {},
   "outputs": [
    {
     "name": "stdout",
     "output_type": "stream",
     "text": [
      "số tiền USD cần đổi: 6\n",
      "tỉ giá USD so với VND: 22300\n",
      "số tiền vnd đổi được:  133800.0\n"
     ]
    }
   ],
   "source": [
    "# chuyển đổi tiền tệ USD -> VND\n",
    "USD = float(input('số tiền USD cần đổi: '))\n",
    "a = float(input('tỉ giá USD so với VND: '))\n",
    "VND = USD * a\n",
    "print('số tiền vnd đổi được: ',VND)"
   ]
  }
 ],
 "metadata": {
  "kernelspec": {
   "display_name": "Python 3 (ipykernel)",
   "language": "python",
   "name": "python3"
  },
  "language_info": {
   "codemirror_mode": {
    "name": "ipython",
    "version": 3
   },
   "file_extension": ".py",
   "mimetype": "text/x-python",
   "name": "python",
   "nbconvert_exporter": "python",
   "pygments_lexer": "ipython3",
   "version": "3.9.12"
  }
 },
 "nbformat": 4,
 "nbformat_minor": 5
}
